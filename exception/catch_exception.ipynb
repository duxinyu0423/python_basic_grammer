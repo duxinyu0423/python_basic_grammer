{
 "cells": [
  {
   "cell_type": "markdown",
   "metadata": {},
   "source": [
    "- try: <br>\n",
    "    有可能产生错误的代码<br>\n",
    "- except:<br>\n",
    "    产生错误是执行的代码<br>\n",
    "- except:<br>\n",
    "    产生错误时执行的代码<br>\n",
    "- else:<br>\n",
    "    没有错误时运行的代码<br>\n",
    "- finally:<br>\n",
    "    不管发生错误与否都会执行的代码<br>"
   ]
  },
  {
   "cell_type": "code",
   "execution_count": null,
   "metadata": {},
   "outputs": [],
   "source": [
    "try:\n",
    "    user_weight = float(input('please give me your weight: '))\n",
    "    user_hight = float(input(\"please give me your hight: \"))\n",
    "    user_BMI = user_weight/((user_hight ** 2))\n",
    "except ValueError:   # 产生值错误时会运行\n",
    "    print('您输入的是不合理的数字, 请重新运行程序, 并输入正确的数字')\n",
    "except ZeroDivisionError:  #产生除 0 错误时\n",
    "    print('身高不能为 0 , 请重新运行程序, 并且输入正确数字')\n",
    "except:\n",
    "    print('产生了未知的错误，请重新运行程序')\n",
    "else:\n",
    "    print('your BMI = ' + str(user_BMI))\n",
    "finally:\n",
    "    print('程序运行结束')"
   ]
  }
 ],
 "metadata": {
  "language_info": {
   "name": "python"
  },
  "orig_nbformat": 4
 },
 "nbformat": 4,
 "nbformat_minor": 2
}
