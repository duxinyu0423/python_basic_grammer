{
 "cells": [
  {
   "cell_type": "markdown",
   "metadata": {},
   "source": [
    "### assert 断言"
   ]
  },
  {
   "cell_type": "code",
   "execution_count": 4,
   "metadata": {},
   "outputs": [],
   "source": [
    "assert len('hi') == 2\n",
    "assert 1+2 > 6    # 报错  AssertionError  \n",
    "assert 'a' in ['b', 'c']   # 报错  AssertionError  "
   ]
  },
  {
   "cell_type": "markdown",
   "metadata": {},
   "source": [
    "assert 后面只跟bool值为 True 的判别式"
   ]
  },
  {
   "cell_type": "markdown",
   "metadata": {},
   "source": [
    "unittest : 对软件中最小的可测试单元进行验证"
   ]
  },
  {
   "cell_type": "code",
   "execution_count": null,
   "metadata": {},
   "outputs": [],
   "source": [
    "import unittest"
   ]
  },
  {
   "cell_type": "markdown",
   "metadata": {},
   "source": [
    "实现代码"
   ]
  },
  {
   "cell_type": "code",
   "execution_count": null,
   "metadata": {},
   "outputs": [],
   "source": [
    "def my_adder(x, y):\n",
    "    return x + y"
   ]
  },
  {
   "cell_type": "markdown",
   "metadata": {},
   "source": [
    "测试代码"
   ]
  },
  {
   "cell_type": "code",
   "execution_count": 6,
   "metadata": {},
   "outputs": [
    {
     "ename": "NameError",
     "evalue": "name 'unittest' is not defined",
     "output_type": "error",
     "traceback": [
      "\u001b[1;31m---------------------------------------------------------------------------\u001b[0m",
      "\u001b[1;31mNameError\u001b[0m                                 Traceback (most recent call last)",
      "Cell \u001b[1;32mIn[6], line 1\u001b[0m\n\u001b[1;32m----> 1\u001b[0m \u001b[39mclass\u001b[39;00m \u001b[39mTestMyAdder\u001b[39;00m(unittest\u001b[39m.\u001b[39mTestCase):\n\u001b[0;32m      2\u001b[0m     \u001b[39mdef\u001b[39;00m \u001b[39mtest_positive_with_positive\u001b[39m(\u001b[39mself\u001b[39m):\n\u001b[0;32m      3\u001b[0m         \u001b[39mself\u001b[39m\u001b[39m.\u001b[39massertEqual(my_adder(\u001b[39m5\u001b[39m, \u001b[39m3\u001b[39m), \u001b[39m8\u001b[39m)\n",
      "\u001b[1;31mNameError\u001b[0m: name 'unittest' is not defined"
     ]
    }
   ],
   "source": [
    "class TestMyAdder(unittest.TestCase):\n",
    "    def test_positive_with_positive(self):\n",
    "        self.assertEqual(my_adder(5, 3), 8)\n",
    "    def test_negative_with_negative(self):\n",
    "        self.assertEqual(my_adder(-5, 3), -2)"
   ]
  }
 ],
 "metadata": {
  "kernelspec": {
   "display_name": "study",
   "language": "python",
   "name": "python3"
  },
  "language_info": {
   "codemirror_mode": {
    "name": "ipython",
    "version": 3
   },
   "file_extension": ".py",
   "mimetype": "text/x-python",
   "name": "python",
   "nbconvert_exporter": "python",
   "pygments_lexer": "ipython3",
   "version": "3.11.4"
  },
  "orig_nbformat": 4
 },
 "nbformat": 4,
 "nbformat_minor": 2
}
