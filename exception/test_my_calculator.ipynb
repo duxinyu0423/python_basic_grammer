{
 "cells": [
  {
   "cell_type": "markdown",
   "metadata": {},
   "source": [
    "测试代码\n",
    "- 导入要测试的函数，如果是在同一目录下，那就是 from 文件名 import 函数名，或者 from 文件名 import 类名\n",
    "- 创建一个类，名字可以以 Test 开头，表示这是一个用来测试的类，他要当 unittest.TestCase 的子类，这样就能使用继承自 unittest.TestCase 的各种测试功能\n",
    "- 在这个类下面，可以定义不同的用例，每一个测试用例都是类下面的一个方法， 名字必须以 **test_** 开头，这个命名很关键，因为 unittest 这个库，会自动搜寻 test_ 开头的方法，并且只把 test_ 开头的当成测试用例\n",
    "- 首先预想一下函数的结果应该是 my_adder(5, 3) == 8 ，用 assert 断言就写为 assert my_adder(5, 3) == 8 ，因为测试类已经继承了 TestCase 这个类，所以就可以通过 self 调用父类方法，传入的第一个参数和第二个参数如果相等，显示测试通过，不相等，虽然不通过但是测试不会炸掉\n",
    "- 写好测试之后，我们要在终端写入 **python -m unittest** ，表示运行 unittest ，这个库就是搜索所有继承了 unittest 库里 TestCase类的子类，运行他们所有以 test_ 开头的方法，然后展示测试结果，他会告诉你，一共运行了几个测试"
   ]
  },
  {
   "cell_type": "code",
   "execution_count": 13,
   "metadata": {},
   "outputs": [
    {
     "name": "stdout",
     "output_type": "stream",
     "text": [
      "e:\\PythonCode\\python_study_202307\\exception\n",
      "e:\\PythonCode\\python_study_202307\\exception\\my_calculator\n"
     ]
    },
    {
     "ename": "ImportError",
     "evalue": "cannot import name 'my_adder' from 'my_calculator' (e:\\PythonCode\\python_study_202307\\exception\\my_calculator.py)",
     "output_type": "error",
     "traceback": [
      "\u001b[1;31m---------------------------------------------------------------------------\u001b[0m",
      "\u001b[1;31mImportError\u001b[0m                               Traceback (most recent call last)",
      "Cell \u001b[1;32mIn[13], line 12\u001b[0m\n\u001b[0;32m      9\u001b[0m \u001b[39mprint\u001b[39m(os\u001b[39m.\u001b[39mpath\u001b[39m.\u001b[39mjoin(os\u001b[39m.\u001b[39mgetcwd(), \u001b[39m'\u001b[39m\u001b[39mmy_calculator\u001b[39m\u001b[39m'\u001b[39m))\n\u001b[0;32m     10\u001b[0m sys\u001b[39m.\u001b[39mpath\u001b[39m.\u001b[39mappend(os\u001b[39m.\u001b[39mpath\u001b[39m.\u001b[39mjoin(os\u001b[39m.\u001b[39mgetcwd(), \u001b[39m'\u001b[39m\u001b[39mmy_calculator\u001b[39m\u001b[39m'\u001b[39m))\n\u001b[1;32m---> 12\u001b[0m \u001b[39mfrom\u001b[39;00m \u001b[39mmy_calculator\u001b[39;00m \u001b[39mimport\u001b[39;00m my_adder\n\u001b[0;32m     13\u001b[0m \u001b[39mclass\u001b[39;00m \u001b[39mTestMyAdder\u001b[39;00m(unittest\u001b[39m.\u001b[39mTestCase):\n\u001b[0;32m     14\u001b[0m     \u001b[39mdef\u001b[39;00m \u001b[39mtest_positive_with_positive\u001b[39m(\u001b[39mself\u001b[39m):\n",
      "\u001b[1;31mImportError\u001b[0m: cannot import name 'my_adder' from 'my_calculator' (e:\\PythonCode\\python_study_202307\\exception\\my_calculator.py)"
     ]
    }
   ],
   "source": [
    "import unittest\n",
    "# import sys\n",
    "# sys.path.append('E:\\PythonCode\\python_study_202307\\exception')\n",
    "# import my_calculator\n",
    "\n",
    "import sys\n",
    "import os\n",
    "print(os.getcwd())\n",
    "print(os.path.join(os.getcwd(), 'my_calculator'))\n",
    "sys.path.append(os.path.join(os.getcwd(), 'my_calculator'))\n",
    "\n",
    "from my_calculator import my_adder\n",
    "class TestMyAdder(unittest.TestCase):\n",
    "    def test_positive_with_positive(self):\n",
    "        self.assertEqual(my_adder(5, 3), 8)\n",
    "    def test_negative_with_negative(self):\n",
    "        self.assertEqual(my_adder(-5, 3), -2)"
   ]
  },
  {
   "cell_type": "markdown",
   "metadata": {},
   "source": [
    "unittest.TestCase类的常见测试方法\n",
    "- assertEqual(A, B)  \n",
    "    *assert A == B*\n",
    "- assertTrue(A)  \n",
    "   *assert A is True*     \n",
    "- assertIn(A, B)    \n",
    "   *assert A in B*"
   ]
  }
 ],
 "metadata": {
  "kernelspec": {
   "display_name": "study",
   "language": "python",
   "name": "python3"
  },
  "language_info": {
   "codemirror_mode": {
    "name": "ipython",
    "version": 3
   },
   "file_extension": ".py",
   "mimetype": "text/x-python",
   "name": "python",
   "nbconvert_exporter": "python",
   "pygments_lexer": "ipython3",
   "version": "3.11.4"
  },
  "orig_nbformat": 4
 },
 "nbformat": 4,
 "nbformat_minor": 2
}
