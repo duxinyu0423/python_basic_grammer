{
 "cells": [
  {
   "cell_type": "markdown",
   "metadata": {},
   "source": [
    "### 方法：\n",
    "对象.方法名(...)\n",
    "### 函数：\n",
    "函数(...)"
   ]
  },
  {
   "cell_type": "code",
   "execution_count": 2,
   "metadata": {},
   "outputs": [
    {
     "name": "stdout",
     "output_type": "stream",
     "text": [
      "['小狗', '小猫', '小兔子', '狐狸']\n",
      "4\n",
      "小狗\n",
      "小猫\n",
      "小兔子\n",
      "100\n",
      "50\n",
      "[50, 60, 71, 80, 92, 100]\n"
     ]
    }
   ],
   "source": [
    "my_list = []\n",
    "my_list.append('小狗')\n",
    "my_list.append('小猫')\n",
    "my_list.append('小兔子')\n",
    "my_list.append('狐狸')\n",
    "\n",
    "print(my_list)\n",
    "print(len(my_list))\n",
    "for i in range (0, len(my_list) - 1):\n",
    "    print(my_list[i])\n",
    "\n",
    "score_list = [100, 60, 80, 71, 50, 92]\n",
    "max_score = max(score_list)\n",
    "min_score = min(score_list)\n",
    "sorted_score = sorted(score_list)\n",
    "print(max_score)\n",
    "print(min_score)\n",
    "print(sorted_score)"
   ]
  }
 ],
 "metadata": {
  "kernelspec": {
   "display_name": "study",
   "language": "python",
   "name": "python3"
  },
  "language_info": {
   "codemirror_mode": {
    "name": "ipython",
    "version": 3
   },
   "file_extension": ".py",
   "mimetype": "text/x-python",
   "name": "python",
   "nbconvert_exporter": "python",
   "pygments_lexer": "ipython3",
   "version": "3.11.4"
  },
  "orig_nbformat": 4
 },
 "nbformat": 4,
 "nbformat_minor": 2
}
