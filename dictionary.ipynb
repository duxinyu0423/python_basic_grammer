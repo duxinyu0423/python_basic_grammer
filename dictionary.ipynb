{
 "cells": [
  {
   "cell_type": "code",
   "execution_count": 3,
   "metadata": {},
   "outputs": [
    {
     "name": "stdout",
     "output_type": "stream",
     "text": [
      "we don't have the number you wanted.\n",
      "now, we have 5 numbers\n"
     ]
    }
   ],
   "source": [
    "contacts = {'小杜':'18354384051',\n",
    "            '小刘':'15565566889',\n",
    "            '妈沫':'15054358211'\n",
    "            }\n",
    "contacts['爸波'] = '13793863963'\n",
    "name = input('please tell me the name of the number you wanted:')\n",
    "if name in contacts:\n",
    "    print(contacts[name])\n",
    "else:\n",
    "    print('we don\\'t have the number you wanted.')\n",
    "    number = input('please add the number of the name you gave me:')\n",
    "    contacts[name] = number;\n",
    "    lenth = len(contacts)\n",
    "    print('now, we have ' + str(lenth) + ' numbers')"
   ]
  },
  {
   "cell_type": "markdown",
   "metadata": {},
   "source": [
    "dictionary.keys()   键 <br>\n",
    "dictionary.values()   值 <br>\n",
    "dictionary.items()    键值对"
   ]
  }
 ],
 "metadata": {
  "kernelspec": {
   "display_name": "study",
   "language": "python",
   "name": "python3"
  },
  "language_info": {
   "codemirror_mode": {
    "name": "ipython",
    "version": 3
   },
   "file_extension": ".py",
   "mimetype": "text/x-python",
   "name": "python",
   "nbconvert_exporter": "python",
   "pygments_lexer": "ipython3",
   "version": "3.11.4"
  },
  "orig_nbformat": 4
 },
 "nbformat": 4,
 "nbformat_minor": 2
}
