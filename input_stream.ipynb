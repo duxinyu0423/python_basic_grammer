{
 "cells": [
  {
   "cell_type": "code",
   "execution_count": 2,
   "metadata": {},
   "outputs": [
    {
     "name": "stdout",
     "output_type": "stream",
     "text": [
      "your age is 11\n"
     ]
    }
   ],
   "source": [
    "user_age = input('please tell me your age,thank you:')\n",
    "print(\"your age is \" + user_age)"
   ]
  },
  {
   "cell_type": "code",
   "execution_count": 3,
   "metadata": {},
   "outputs": [
    {
     "name": "stdout",
     "output_type": "stream",
     "text": [
      "21.79930795847751\n"
     ]
    }
   ],
   "source": [
    "user_weight = float(input('please give me your weight: '))\n",
    "user_hight = float(input(\"please give me your hight: \"))\n",
    "user_BMI = user_weight/((user_hight ** 2))\n",
    "print(user_BMI)"
   ]
  }
 ],
 "metadata": {
  "kernelspec": {
   "display_name": "study",
   "language": "python",
   "name": "python3"
  },
  "language_info": {
   "codemirror_mode": {
    "name": "ipython",
    "version": 3
   },
   "file_extension": ".py",
   "mimetype": "text/x-python",
   "name": "python",
   "nbconvert_exporter": "python",
   "pygments_lexer": "ipython3",
   "version": "3.11.4"
  },
  "orig_nbformat": 4
 },
 "nbformat": 4,
 "nbformat_minor": 2
}
