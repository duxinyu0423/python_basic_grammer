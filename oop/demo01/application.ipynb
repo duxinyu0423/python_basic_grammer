{
 "cells": [
  {
   "cell_type": "markdown",
   "metadata": {},
   "source": [
    "定义父类"
   ]
  },
  {
   "cell_type": "code",
   "execution_count": 3,
   "metadata": {},
   "outputs": [],
   "source": [
    "class Student:\n",
    "    def __init__(self, number, grade):\n",
    "        self.number = number\n",
    "        self.grade = grade\n",
    "    def doHomework(self):\n",
    "        print(f'Student {self.number} is doing homework.')"
   ]
  },
  {
   "cell_type": "markdown",
   "metadata": {},
   "source": [
    "定义子类"
   ]
  },
  {
   "cell_type": "code",
   "execution_count": 4,
   "metadata": {},
   "outputs": [],
   "source": [
    "class CollegeStudent(Student):\n",
    "    def __init__(self, name, number, grade):\n",
    "        super().__init__(number, grade)\n",
    "        self.name = name\n",
    "    def doHomework(self):\n",
    "        print(f'College student {self.name} is doing college homework.')\n",
    "        \n",
    "class ElementarySchoolStudent(Student):\n",
    "    def __init__(self, name, number, grade):\n",
    "        super().__init__(number, grade)\n",
    "        self.name = name\n",
    "    def doHomework(self):\n",
    "        print(f'Elementary school student {self.name} is doing elementary school homework')\n",
    "    "
   ]
  },
  {
   "cell_type": "markdown",
   "metadata": {},
   "source": [
    "创建对象"
   ]
  },
  {
   "cell_type": "code",
   "execution_count": 7,
   "metadata": {},
   "outputs": [
    {
     "name": "stdout",
     "output_type": "stream",
     "text": [
      "Student 1002 is doing homework.\n",
      "College student Jerry is doing college homework.\n",
      "Elementary school student Tom is doing elementary school homework\n"
     ]
    }
   ],
   "source": [
    "Cheese = Student('1002', '10')\n",
    "Jerry = CollegeStudent('Jerry', '1003', '13')\n",
    "Tom = ElementarySchoolStudent('Tom', '1004', '5')\n",
    "# Cheese.doHomework()\n",
    "# Jerry.doHomework()\n",
    "# Tom.doHomework()\n",
    "student = [Cheese, Jerry, Tom]\n",
    "\n",
    "for stu in student:\n",
    "    stu.doHomework()"
   ]
  }
 ],
 "metadata": {
  "kernelspec": {
   "display_name": "study",
   "language": "python",
   "name": "python3"
  },
  "language_info": {
   "codemirror_mode": {
    "name": "ipython",
    "version": 3
   },
   "file_extension": ".py",
   "mimetype": "text/x-python",
   "name": "python",
   "nbconvert_exporter": "python",
   "pygments_lexer": "ipython3",
   "version": "3.11.4"
  },
  "orig_nbformat": 4
 },
 "nbformat": 4,
 "nbformat_minor": 2
}
