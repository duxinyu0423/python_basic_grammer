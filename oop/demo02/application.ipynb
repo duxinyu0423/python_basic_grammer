{
 "cells": [
  {
   "cell_type": "code",
   "execution_count": 14,
   "metadata": {},
   "outputs": [],
   "source": [
    "class Student:\n",
    "    def __init__(self, number):\n",
    "        self.number = number\n",
    "        self.grade = {'Chinese':0, 'Math':0, 'English':0}\n",
    "    def setGrage(self, subject, grade):\n",
    "        self.grade[subject] = grade"
   ]
  },
  {
   "cell_type": "code",
   "execution_count": 15,
   "metadata": {},
   "outputs": [],
   "source": [
    "Jerry = Student('Jerry')\n",
    "Tom = Student('Tom')"
   ]
  },
  {
   "cell_type": "code",
   "execution_count": 18,
   "metadata": {},
   "outputs": [
    {
     "name": "stdout",
     "output_type": "stream",
     "text": [
      "{'Chinese': 90, 'Math': 0, 'English': 0}\n",
      "{'Chinese': 0, 'Math': 0, 'English': 88}\n"
     ]
    }
   ],
   "source": [
    "print(Jerry.grade)\n",
    "print(Tom.grade)"
   ]
  },
  {
   "cell_type": "code",
   "execution_count": 17,
   "metadata": {},
   "outputs": [],
   "source": [
    "Jerry.setGrage(\"Chinese\", 90)\n",
    "Tom.setGrage(\"English\", 88)"
   ]
  },
  {
   "cell_type": "code",
   "execution_count": 19,
   "metadata": {},
   "outputs": [
    {
     "name": "stdout",
     "output_type": "stream",
     "text": [
      "{'Chinese': 90, 'Math': 0, 'English': 0}\n",
      "{'Chinese': 0, 'Math': 0, 'English': 88}\n"
     ]
    }
   ],
   "source": [
    "print(Jerry.grade)\n",
    "print(Tom.grade)"
   ]
  }
 ],
 "metadata": {
  "kernelspec": {
   "display_name": "study",
   "language": "python",
   "name": "python3"
  },
  "language_info": {
   "codemirror_mode": {
    "name": "ipython",
    "version": 3
   },
   "file_extension": ".py",
   "mimetype": "text/x-python",
   "name": "python",
   "nbconvert_exporter": "python",
   "pygments_lexer": "ipython3",
   "version": "3.11.4"
  },
  "orig_nbformat": 4
 },
 "nbformat": 4,
 "nbformat_minor": 2
}
