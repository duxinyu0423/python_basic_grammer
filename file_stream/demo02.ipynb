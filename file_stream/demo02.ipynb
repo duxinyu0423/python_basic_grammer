{
 "cells": [
  {
   "cell_type": "markdown",
   "metadata": {},
   "source": [
    "- 'r' 只读\n",
    "- 'w' 只写"
   ]
  },
  {
   "cell_type": "code",
   "execution_count": 2,
   "metadata": {},
   "outputs": [],
   "source": [
    "with open('./write.txt', 'w', encoding = 'utf-8') as f:\n",
    "    f.write('hello')\n",
    "    f.write(' world!')\n",
    "    f.write('\\n你好，世界！')"
   ]
  },
  {
   "cell_type": "markdown",
   "metadata": {},
   "source": [
    "- 'a' 附加模式"
   ]
  },
  {
   "cell_type": "code",
   "execution_count": 3,
   "metadata": {},
   "outputs": [],
   "source": [
    "with open('./write.txt', 'a', encoding = 'utf-8') as f:\n",
    "    f.write('I\\'m Jerry.')"
   ]
  },
  {
   "cell_type": "markdown",
   "metadata": {},
   "source": [
    "|模式|r|r+|w|w+|a|a+|\n",
    "|---|---|---|---|---|---|---|\n",
    "|读|√|√| |√| |√|\n",
    "|写| |√|√|√|√|√|\n",
    "|创建| | |√|√|√|√|\n",
    "|覆盖| | |√|√| | |\n",
    "|指针在开始|√|√|√|√| | |\n",
    "|指针在结尾| | | | |√|√|"
   ]
  }
 ],
 "metadata": {
  "kernelspec": {
   "display_name": "study",
   "language": "python",
   "name": "python3"
  },
  "language_info": {
   "codemirror_mode": {
    "name": "ipython",
    "version": 3
   },
   "file_extension": ".py",
   "mimetype": "text/x-python",
   "name": "python",
   "nbconvert_exporter": "python",
   "pygments_lexer": "ipython3",
   "version": "3.11.4"
  },
  "orig_nbformat": 4
 },
 "nbformat": 4,
 "nbformat_minor": 2
}
