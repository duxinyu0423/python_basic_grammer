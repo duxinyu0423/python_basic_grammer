{
 "cells": [
  {
   "cell_type": "code",
   "execution_count": 1,
   "metadata": {},
   "outputs": [
    {
     "name": "stdout",
     "output_type": "stream",
     "text": [
      "you are very good\n"
     ]
    }
   ],
   "source": [
    "score = int(input('please tell me your score: '))\n",
    "if score >= 90:\n",
    "    print(\"you are very good\")\n",
    "elif score >= 80:\n",
    "    print(\"you are pretty good\")\n",
    "elif score >= 70:\n",
    "    print('you will be better next time')\n",
    "else:\n",
    "    print('come on, baby')"
   ]
  }
 ],
 "metadata": {
  "kernelspec": {
   "display_name": "study",
   "language": "python",
   "name": "python3"
  },
  "language_info": {
   "codemirror_mode": {
    "name": "ipython",
    "version": 3
   },
   "file_extension": ".py",
   "mimetype": "text/x-python",
   "name": "python",
   "nbconvert_exporter": "python",
   "pygments_lexer": "ipython3",
   "version": "3.11.4"
  },
  "orig_nbformat": 4
 },
 "nbformat": 4,
 "nbformat_minor": 2
}
