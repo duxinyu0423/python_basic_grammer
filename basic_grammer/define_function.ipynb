{
 "cells": [
  {
   "cell_type": "markdown",
   "metadata": {},
   "source": [
    "定义一个函数求中位数"
   ]
  },
  {
   "cell_type": "code",
   "execution_count": 8,
   "metadata": {},
   "outputs": [
    {
     "name": "stdout",
     "output_type": "stream",
     "text": [
      "3.5\n",
      "10\n",
      "<class 'int'>\n",
      "7\n",
      "5.5\n"
     ]
    }
   ],
   "source": [
    "def median(my_list):\n",
    "    my_list = sorted(my_list)\n",
    "    lenth = len(my_list)\n",
    "    if lenth%2 == 1:\n",
    "        num = my_list[int(lenth/2)]\n",
    "    else:\n",
    "        num = (my_list[int(lenth/2)] + my_list[int(lenth/2 - 1)]) / 2\n",
    "    return num;\n",
    "\n",
    "list1 = [10, 9, 5, 4, 6, 7, 8]\n",
    "list2 = [1, 10, 9, 2, 8, 3, 6, 7, 4, 5]\n",
    "\n",
    "print(len(list1)/2)\n",
    "print(len(list2))\n",
    "print(type(len(list1)))\n",
    "\n",
    "print(median(list1))\n",
    "print(median(list2))"
   ]
  },
  {
   "cell_type": "markdown",
   "metadata": {},
   "source": [
    "// 除法，向下取整"
   ]
  },
  {
   "cell_type": "code",
   "execution_count": 11,
   "metadata": {},
   "outputs": [
    {
     "name": "stdout",
     "output_type": "stream",
     "text": [
      "3\n",
      "10\n",
      "<class 'int'>\n",
      "7\n",
      "5.5\n"
     ]
    }
   ],
   "source": [
    "def median(my_list):\n",
    "    my_list = sorted(my_list)\n",
    "    lenth = len(my_list)\n",
    "    if lenth%2 == 1:\n",
    "        num = my_list[lenth // 2]\n",
    "    else:\n",
    "        num = (my_list[lenth // 2] + my_list[lenth // 2 - 1]) / 2\n",
    "    return num;\n",
    "\n",
    "list1 = [10, 9, 5, 4, 6, 7, 8]\n",
    "list2 = [1, 10, 9, 2, 8, 3, 6, 7, 4, 5]\n",
    "\n",
    "print(len(list1) // 2)\n",
    "print(len(list2))\n",
    "print(type(len(list1)))\n",
    "\n",
    "print(median(list1))\n",
    "print(median(list2))"
   ]
  }
 ],
 "metadata": {
  "kernelspec": {
   "display_name": "study",
   "language": "python",
   "name": "python3"
  },
  "language_info": {
   "codemirror_mode": {
    "name": "ipython",
    "version": 3
   },
   "file_extension": ".py",
   "mimetype": "text/x-python",
   "name": "python",
   "nbconvert_exporter": "python",
   "pygments_lexer": "ipython3",
   "version": "3.11.4"
  },
  "orig_nbformat": 4
 },
 "nbformat": 4,
 "nbformat_minor": 2
}
