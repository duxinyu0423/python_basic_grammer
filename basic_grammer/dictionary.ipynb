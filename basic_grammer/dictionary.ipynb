{
 "cells": [
  {
   "cell_type": "code",
   "execution_count": 5,
   "metadata": {},
   "outputs": [
    {
     "name": "stdout",
     "output_type": "stream",
     "text": [
      "we don't have the number you wanted.\n",
      "now, we have 5 numbers\n"
     ]
    }
   ],
   "source": [
    "contacts = {'小杜':'18354384051',\n",
    "            '小刘':'15565566889',\n",
    "            '妈沫':'15054358211'\n",
    "            }\n",
    "contacts['爸波'] = '13793863963'\n",
    "name = input('please tell me the name of the number you wanted:')\n",
    "if name in contacts:\n",
    "    print(contacts[name])\n",
    "else:\n",
    "    print('we don\\'t have the number you wanted.')\n",
    "    number = input('please add the number of the name you gave me:')\n",
    "    contacts[name] = number;\n",
    "    lenth = len(contacts)\n",
    "    print('now, we have ' + str(lenth) + ' numbers')"
   ]
  },
  {
   "cell_type": "markdown",
   "metadata": {},
   "source": [
    "dictionary.keys()   键 <br>\n",
    "dictionary.values()   值 <br>\n",
    "dictionary.items()    键值对"
   ]
  },
  {
   "cell_type": "code",
   "execution_count": 6,
   "metadata": {},
   "outputs": [
    {
     "name": "stdout",
     "output_type": "stream",
     "text": [
      "('小杜', '18354384051')\n",
      "小杜 : 18354384051\n",
      "('小刘', '15565566889')\n",
      "小刘 : 15565566889\n",
      "('妈沫', '15054358211')\n",
      "妈沫 : 15054358211\n",
      "('爸波', '13793863963')\n",
      "爸波 : 13793863963\n",
      "('小狗', '17736227917')\n",
      "小狗 : 17736227917\n",
      "小杜 18354384051\n",
      "你好，小杜的手机号是18354384051，这句话使用的是 -f\n",
      "你好，小杜的手机号是18354384051，这句话使用的是 format\n",
      "小刘 15565566889\n",
      "你好，小刘的手机号是15565566889，这句话使用的是 -f\n",
      "你好，小刘的手机号是15565566889，这句话使用的是 format\n",
      "妈沫 15054358211\n",
      "你好，妈沫的手机号是15054358211，这句话使用的是 -f\n",
      "你好，妈沫的手机号是15054358211，这句话使用的是 format\n",
      "爸波 13793863963\n",
      "你好，爸波的手机号是13793863963，这句话使用的是 -f\n",
      "你好，爸波的手机号是13793863963，这句话使用的是 format\n",
      "小狗 17736227917\n",
      "你好，小狗的手机号是17736227917，这句话使用的是 -f\n",
      "你好，小狗的手机号是17736227917，这句话使用的是 format\n",
      "小杜\n",
      "小刘\n",
      "妈沫\n",
      "爸波\n",
      "小狗\n",
      "18354384051\n",
      "15565566889\n",
      "15054358211\n",
      "13793863963\n",
      "17736227917\n"
     ]
    }
   ],
   "source": [
    "for item in contacts.items():\n",
    "    print(item)\n",
    "    print(item[0] + \" : \" + item[1])\n",
    "\n",
    "for name, number in contacts.items():\n",
    "    print(name, number)\n",
    "    print(f'你好，{name}的手机号是{number}，这句话使用的是 -f')\n",
    "    print('你好，{name}的手机号是{number}，这句话使用的是 format'.format(name = name, number = number))\n",
    "\n",
    "for name in contacts.keys():\n",
    "    print(name)\n",
    "for number in contacts.values():\n",
    "    print(number)"
   ]
  },
  {
   "cell_type": "code",
   "execution_count": 7,
   "metadata": {},
   "outputs": [
    {
     "name": "stdout",
     "output_type": "stream",
     "text": [
      "你好，小杜的手机号是18354384051，这句话使用的是 -f\n",
      "你好，小杜的手机号是18354384051，这句话使用的是 format\n",
      "你好，小刘的手机号是15565566889，这句话使用的是 -f\n",
      "你好，小刘的手机号是15565566889，这句话使用的是 format\n",
      "你好，妈沫的手机号是15054358211，这句话使用的是 -f\n",
      "你好，妈沫的手机号是15054358211，这句话使用的是 format\n",
      "你好，爸波的手机号是13793863963，这句话使用的是 -f\n",
      "你好，爸波的手机号是13793863963，这句话使用的是 format\n",
      "你好，小狗的手机号是17736227917，这句话使用的是 -f\n",
      "你好，小狗的手机号是17736227917，这句话使用的是 format\n"
     ]
    }
   ],
   "source": [
    "for name, number in contacts.items():\n",
    "    print(f'你好，{name}的手机号是{number}，这句话使用的是 -f')\n",
    "    print('你好，{name}的手机号是{number}，这句话使用的是 format'.format(name = name, number = number))"
   ]
  }
 ],
 "metadata": {
  "kernelspec": {
   "display_name": "study",
   "language": "python",
   "name": "python3"
  },
  "language_info": {
   "codemirror_mode": {
    "name": "ipython",
    "version": 3
   },
   "file_extension": ".py",
   "mimetype": "text/x-python",
   "name": "python",
   "nbconvert_exporter": "python",
   "pygments_lexer": "ipython3",
   "version": "3.11.4"
  },
  "orig_nbformat": 4
 },
 "nbformat": 4,
 "nbformat_minor": 2
}
