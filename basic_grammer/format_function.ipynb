{
 "cells": [
  {
   "cell_type": "markdown",
   "metadata": {},
   "source": [
    "format 方法"
   ]
  },
  {
   "cell_type": "code",
   "execution_count": 3,
   "metadata": {},
   "outputs": [
    {
     "name": "stdout",
     "output_type": "stream",
     "text": [
      "若有？兮山之阿，被薜荔兮带女萝。\n",
      "既含睇兮又宜笑，子慕予兮善窈窕。\n",
      "乘赤豹兮从文狸，辛夷车兮结桂旗。\n",
      "被石兰兮带杜衡，折芳馨兮遗所思。\n"
     ]
    }
   ],
   "source": [
    "people = '人'\n",
    "car = '车'\n",
    "message_content = \"\"\"若有{0}兮山之阿，被薜荔兮带女萝。\n",
    "既含睇兮又宜笑，子慕予兮善窈窕。\n",
    "乘赤豹兮从文狸，辛夷{1}兮结桂旗。\n",
    "被石兰兮带杜衡，折芳馨兮遗所思。\"\"\".format(people, car)\n",
    "\n",
    "print(message_content)"
   ]
  },
  {
   "cell_type": "code",
   "execution_count": 4,
   "metadata": {},
   "outputs": [
    {
     "name": "stdout",
     "output_type": "stream",
     "text": [
      "若有人兮山之阿，被薜荔兮带女萝。\n",
      "既含睇兮又宜笑，子慕予兮善窈窕。\n",
      "乘赤豹兮从文狸，辛夷车兮结桂旗。\n",
      "被石兰兮带杜衡，折芳馨兮遗所思。\n"
     ]
    }
   ],
   "source": [
    "people = '人'\n",
    "car = '车'\n",
    "message_content = \"\"\"若有{my_people}兮山之阿，被薜荔兮带女萝。\n",
    "既含睇兮又宜笑，子慕予兮善窈窕。\n",
    "乘赤豹兮从文狸，辛夷{my_car}兮结桂旗。\n",
    "被石兰兮带杜衡，折芳馨兮遗所思。\"\"\".format(my_car = car, my_people = people)\n",
    "\n",
    "print(message_content)"
   ]
  },
  {
   "cell_type": "markdown",
   "metadata": {},
   "source": [
    "f- 字符串"
   ]
  },
  {
   "cell_type": "code",
   "execution_count": 5,
   "metadata": {},
   "outputs": [
    {
     "name": "stdout",
     "output_type": "stream",
     "text": [
      "金兔贺岁，\n",
      "欢乐祥瑞；\n",
      "金兔敲门，\n",
      "五福临门；\n",
      "给老林及家人拜年啦\n"
     ]
    }
   ],
   "source": [
    "name = '老林'\n",
    "year = '兔'\n",
    "message_content = f\"\"\"金{year}贺岁，\n",
    "欢乐祥瑞；\n",
    "金{year}敲门，\n",
    "五福临门；\n",
    "给{name}及家人拜年啦\"\"\"\n",
    "\n",
    "print(message_content)"
   ]
  },
  {
   "cell_type": "markdown",
   "metadata": {},
   "source": [
    "保留小数位"
   ]
  },
  {
   "cell_type": "code",
   "execution_count": 8,
   "metadata": {},
   "outputs": [
    {
     "name": "stdout",
     "output_type": "stream",
     "text": [
      "Jerry你好，你的绩点是10.56\n"
     ]
    }
   ],
   "source": [
    "name = 'Jerry'\n",
    "gpa = 10.556\n",
    "print(f\"{name}你好，你的绩点是{gpa:.2f}\")"
   ]
  }
 ],
 "metadata": {
  "kernelspec": {
   "display_name": "study",
   "language": "python",
   "name": "python3"
  },
  "language_info": {
   "codemirror_mode": {
    "name": "ipython",
    "version": 3
   },
   "file_extension": ".py",
   "mimetype": "text/x-python",
   "name": "python",
   "nbconvert_exporter": "python",
   "pygments_lexer": "ipython3",
   "version": "3.11.4"
  },
  "orig_nbformat": 4
 },
 "nbformat": 4,
 "nbformat_minor": 2
}
