{
 "cells": [
  {
   "cell_type": "markdown",
   "metadata": {},
   "source": [
    "**and** 与\n",
    "\n",
    "**or** 或\n",
    "\n",
    "**not** 非\n",
    "\n",
    "not > and > or"
   ]
  },
  {
   "cell_type": "code",
   "execution_count": null,
   "metadata": {},
   "outputs": [],
   "source": []
  }
 ],
 "metadata": {
  "language_info": {
   "name": "python"
  },
  "orig_nbformat": 4
 },
 "nbformat": 4,
 "nbformat_minor": 2
}
